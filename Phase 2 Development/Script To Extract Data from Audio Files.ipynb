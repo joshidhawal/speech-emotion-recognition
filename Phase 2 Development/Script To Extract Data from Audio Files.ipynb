{
 "cells": [
  {
   "cell_type": "code",
   "execution_count": 1,
   "metadata": {},
   "outputs": [],
   "source": [
    "# Imports\n",
    "import os\n",
    "import librosa\n",
    "from tqdm import tqdm_notebook as tqdm\n",
    "import pandas as pd\n",
    "\n",
    "import warnings\n",
    "warnings.filterwarnings('ignore')"
   ]
  },
  {
   "cell_type": "code",
   "execution_count": 3,
   "metadata": {},
   "outputs": [
    {
     "data": {
      "application/vnd.jupyter.widget-view+json": {
       "model_id": "70de4b1a006d416ebc74378cab63b033",
       "version_major": 2,
       "version_minor": 0
      },
      "text/plain": [
       "HBox(children=(FloatProgress(value=0.0, max=4.0), HTML(value='')))"
      ]
     },
     "metadata": {},
     "output_type": "display_data"
    },
    {
     "name": "stdout",
     "output_type": "stream",
     "text": [
      "\n"
     ]
    },
    {
     "data": {
      "application/vnd.jupyter.widget-view+json": {
       "model_id": "b356ee31b55c4f35b2453ee27a6ffc87",
       "version_major": 2,
       "version_minor": 0
      },
      "text/plain": [
       "HBox(children=(FloatProgress(value=0.0, max=4.0), HTML(value='')))"
      ]
     },
     "metadata": {},
     "output_type": "display_data"
    },
    {
     "name": "stdout",
     "output_type": "stream",
     "text": [
      "\n"
     ]
    }
   ],
   "source": [
    "def getFeeling(item):\n",
    "    if item[0]=='a':\n",
    "        return('angry')\n",
    "    elif item[0]=='f':\n",
    "        return('fear')\n",
    "    elif item[0]=='d':\n",
    "        return('disgust')\n",
    "    elif item[0]=='h':\n",
    "        return('happiness')\n",
    "    elif item[0]=='s' and item[1]=='a':\n",
    "        return('sadness')\n",
    "    elif item[0]=='s'and item[1]=='u':\n",
    "        return('surprise')\n",
    "    elif item[0]=='n':\n",
    "        return('neutral')\n",
    "\n",
    "\n",
    "folderlist=os.listdir('Savee_Data')\n",
    "\n",
    "for foldername in tqdm(folderlist):\n",
    "    insidefolderlist = os.listdir('Savee_Data/'+foldername)\n",
    "    count=1\n",
    "    for name in insidefolderlist:\n",
    "        # loading the file\n",
    "        amplitude_data, sampling_rate = librosa.load('Savee_Data/'+foldername+'/'+name,sr=None)\n",
    "\n",
    "        # Deciding number of features we want to extract\n",
    "        no_of_mfcc_features_to_extract = 13\n",
    "\n",
    "        # Taking the Gender and Feeling Information\n",
    "        gender = \"male\"\n",
    "        feeling = getFeeling(name)\n",
    "\n",
    "        # Extracting MFCC Features from File\n",
    "        mfcc= librosa.feature.mfcc(y=amplitude_data, n_mfcc=no_of_mfcc_features_to_extract)\n",
    "\n",
    "        # Making DataFrame of Features\n",
    "        mfcc_dataframe = pd.DataFrame(mfcc)\n",
    "\n",
    "        # Transposing the Data so we get features as columns and value per window as rows\n",
    "        mfcc_dataframe=mfcc_dataframe.T\n",
    "\n",
    "        # Adding Column Headings\n",
    "        mfcc_dataframe_columns=[]\n",
    "        for i in range(1,no_of_mfcc_features_to_extract+1):\n",
    "            mfcc_dataframe_columns.append(\"Feature \"+str(i))\n",
    "\n",
    "        mfcc_dataframe.columns = mfcc_dataframe_columns\n",
    "\n",
    "        # Adding Gender and Feeling Data\n",
    "        mfcc_dataframe.insert(0,\"Gender\",gender)\n",
    "        mfcc_dataframe.insert(1,\"Feeling\",feeling)\n",
    "\n",
    "        ## Saving the DataFrame to CSV\n",
    "        nameToSaveFileAs= \"Script/\"+str(count)+\"/\"+name+\"_.csv\"\n",
    "        mfcc_dataframe.to_csv(nameToSaveFileAs,index=False)\n",
    "        \n",
    "    count+=1\n",
    "\n",
    "\n",
    "        \n",
    "\n",
    "\n",
    "frame=[]\n",
    "newfolderlist=os.listdir('Script')\n",
    "\n",
    "for foldername in tqdm(newfolderlist):\n",
    "    insidefolderlist = os.listdir('Script/'+foldername)\n",
    "    for filename in insidefolderlist:\n",
    "        frame_df = pd.read_csv(\"Script/\"+foldername+\"/\"+filename)\n",
    "        frame.append(frame_df)\n",
    "\n",
    "result=pd.concat(frame)\n",
    "\n",
    "result.to_csv(\"Script/Savee_Data.csv\",index=False)    \n",
    "    "
   ]
  },
  {
   "cell_type": "code",
   "execution_count": null,
   "metadata": {},
   "outputs": [],
   "source": []
  }
 ],
 "metadata": {
  "kernelspec": {
   "display_name": "Python [conda env:tensorflow] *",
   "language": "python",
   "name": "conda-env-tensorflow-py"
  },
  "language_info": {
   "codemirror_mode": {
    "name": "ipython",
    "version": 3
   },
   "file_extension": ".py",
   "mimetype": "text/x-python",
   "name": "python",
   "nbconvert_exporter": "python",
   "pygments_lexer": "ipython3",
   "version": "3.6.10"
  },
  "varInspector": {
   "cols": {
    "lenName": 16,
    "lenType": 16,
    "lenVar": 40
   },
   "kernels_config": {
    "python": {
     "delete_cmd_postfix": "",
     "delete_cmd_prefix": "del ",
     "library": "var_list.py",
     "varRefreshCmd": "print(var_dic_list())"
    },
    "r": {
     "delete_cmd_postfix": ") ",
     "delete_cmd_prefix": "rm(",
     "library": "var_list.r",
     "varRefreshCmd": "cat(var_dic_list()) "
    }
   },
   "types_to_exclude": [
    "module",
    "function",
    "builtin_function_or_method",
    "instance",
    "_Feature"
   ],
   "window_display": false
  }
 },
 "nbformat": 4,
 "nbformat_minor": 4
}
